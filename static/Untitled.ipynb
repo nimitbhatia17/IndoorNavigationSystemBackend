{
 "cells": [
  {
   "cell_type": "code",
   "execution_count": 3,
   "id": "265fbdfc",
   "metadata": {},
   "outputs": [],
   "source": [
    "from PIL import Image, ImageDraw"
   ]
  },
  {
   "cell_type": "code",
   "execution_count": 6,
   "id": "469d37e8",
   "metadata": {},
   "outputs": [],
   "source": [
    "points = [\n",
    "(1136,803,-81,-89,0,0),\n",
    "(1136,622,-80,-86,0,0),\n",
    "(1136,446,-80,-88,0,0),\n",
    "(1136,262,-80,-85,0,0),\n",
    "(1136,920,0,-87,0,0)]\n",
    "r = 10"
   ]
  },
  {
   "cell_type": "code",
   "execution_count": 7,
   "id": "d6b546e8",
   "metadata": {},
   "outputs": [],
   "source": [
    "mapImage = Image.open(\n",
    "'C:\\Projects\\App development\\IndoorNavigationSystemBackend\\static\\PULibraryMap.png')\n",
    "drawImage = ImageDraw.Draw(mapImage)\n",
    "for p in points:\n",
    "    twoPointList = [(p[0] - r, p[1] - r), (p[0] + r, p[1] + r)]\n",
    "    \n",
    "    drawImage.ellipse(twoPointList, fill=\"red\")\n",
    "mapImage.save(\n",
    "'C:/Projects/App development/IndoorNavigationSystemBackend/static/PULibraryMapReference.png')"
   ]
  },
  {
   "cell_type": "code",
   "execution_count": null,
   "id": "8fccd0eb",
   "metadata": {},
   "outputs": [],
   "source": []
  }
 ],
 "metadata": {
  "kernelspec": {
   "display_name": "Python 3 (ipykernel)",
   "language": "python",
   "name": "python3"
  },
  "language_info": {
   "codemirror_mode": {
    "name": "ipython",
    "version": 3
   },
   "file_extension": ".py",
   "mimetype": "text/x-python",
   "name": "python",
   "nbconvert_exporter": "python",
   "pygments_lexer": "ipython3",
   "version": "3.9.7"
  }
 },
 "nbformat": 4,
 "nbformat_minor": 5
}
