{
 "cells": [
  {
   "cell_type": "code",
   "execution_count": 1,
   "id": "e63871f7",
   "metadata": {},
   "outputs": [],
   "source": [
    "import pandas as pd"
   ]
  },
  {
   "cell_type": "code",
   "execution_count": 2,
   "id": "5d060076",
   "metadata": {},
   "outputs": [
    {
     "data": {
      "text/plain": [
       "(Series([], Name: x, dtype: int64), Series([], Name: y, dtype: int64))"
      ]
     },
     "execution_count": 2,
     "metadata": {},
     "output_type": "execute_result"
    }
   ],
   "source": [
    "RSSIDict = {'OnePlus Buds Z2': 0, 'Nothing ear (1)': -96, '6B:3F:F3:EA:AA:31': 0, '41:26:86:BA:92:81': -63}\n",
    "\n",
    "RSSITable = pd.read_csv('RSSITable.csv')\n",
    "\n",
    "targetAP1 = RSSIDict['Nothing ear (1)']\n",
    "targetAP2 = RSSIDict['6B:3F:F3:EA:AA:31']\n",
    "targetAP3 = RSSIDict['41:26:86:BA:92:81']\n",
    "\n",
    "def applicationFun(row):\n",
    "    xDist = abs(row['ap1'] - targetAP1)\n",
    "    yDist = abs(row['ap2'] - targetAP2)\n",
    "    zDist = abs(row['ap3'] - targetAP3)\n",
    "    return xDist**2 + yDist**2 + zDist**2\n",
    "\n",
    "RSSITable['result'] = RSSITable.apply(applicationFun, axis = 1)\n",
    "resultant = RSSITable[RSSITable['result'] == RSSITable['result'].min()]\n",
    "\n",
    "resultant.head(1)['x'], resultant.head(1)['y']"
   ]
  },
  {
   "cell_type": "raw",
   "id": "3bac0cc0",
   "metadata": {},
   "source": [
    "for i in range(len(vertexList) - 1):\n",
    "    x1 = RSSITable.iloc[vertexList[i] - 1]['x']\n",
    "    y1 = RSSITable.iloc[vertexList[i] - 1]['y']\n",
    "    x2 = RSSITable.iloc[vertexList[i + 1] - 1]['x']\n",
    "    y2 = RSSITable.iloc[vertexList[i + 1] - 1]['y']"
   ]
  },
  {
   "cell_type": "code",
   "execution_count": 54,
   "id": "ec8c312f",
   "metadata": {},
   "outputs": [
    {
     "data": {
      "text/plain": [
       "2"
      ]
     },
     "execution_count": 54,
     "metadata": {},
     "output_type": "execute_result"
    }
   ],
   "source": [
    "start[0]"
   ]
  },
  {
   "cell_type": "code",
   "execution_count": null,
   "id": "9fab851e",
   "metadata": {},
   "outputs": [],
   "source": []
  }
 ],
 "metadata": {
  "kernelspec": {
   "display_name": "Python 3 (ipykernel)",
   "language": "python",
   "name": "python3"
  },
  "language_info": {
   "codemirror_mode": {
    "name": "ipython",
    "version": 3
   },
   "file_extension": ".py",
   "mimetype": "text/x-python",
   "name": "python",
   "nbconvert_exporter": "python",
   "pygments_lexer": "ipython3",
   "version": "3.10.8"
  }
 },
 "nbformat": 4,
 "nbformat_minor": 5
}
