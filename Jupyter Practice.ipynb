{
 "cells": [
  {
   "cell_type": "code",
   "execution_count": 18,
   "id": "e63871f7",
   "metadata": {},
   "outputs": [],
   "source": [
    "import numpy as np\n",
    "import matplotlib.pyplot as plt\n",
    "import statistics\n",
    "import pandas as pd\n",
    "import random as rd"
   ]
  },
  {
   "cell_type": "code",
   "execution_count": 22,
   "id": "5d060076",
   "metadata": {},
   "outputs": [
    {
     "data": {
      "text/plain": [
       "(0    310\n",
       " Name: x, dtype: int64,\n",
       " 0    795\n",
       " Name: y, dtype: int64)"
      ]
     },
     "execution_count": 22,
     "metadata": {},
     "output_type": "execute_result"
    }
   ],
   "source": [
    "RSSIDict = {'OnePlus Buds Z2': 0, 'Nothing ear (1)': -96, '6B:3F:F3:EA:AA:31': 0, '41:26:86:BA:92:81': -63}\n",
    "\n",
    "RSSITable = pd.read_csv('RSSITable.csv')\n",
    "\n",
    "targetAP1 = RSSIDict['Nothing ear (1)']\n",
    "targetAP2 = RSSIDict['6B:3F:F3:EA:AA:31']\n",
    "targetAP3 = RSSIDict['41:26:86:BA:92:81']\n",
    "\n",
    "def applicationFun(row):\n",
    "    xDist = abs(row['ap1'] - targetAP1)\n",
    "    yDist = abs(row['ap2'] - targetAP2)\n",
    "    zDist = abs(row['ap3'] - targetAP3)\n",
    "    return xDist**2 + yDist**2 + zDist**2\n",
    "\n",
    "RSSITable['result'] = RSSITable.apply(applicationFun, axis = 1)\n",
    "resultant = RSSITable[RSSITable['result'] == RSSITable['result'].min()]\n",
    "\n",
    "resultant.head(1)['x'], resultant.head(1)['y']"
   ]
  },
  {
   "cell_type": "code",
   "execution_count": 23,
   "id": "ec8c312f",
   "metadata": {},
   "outputs": [
    {
     "data": {
      "text/html": [
       "<div>\n",
       "<style scoped>\n",
       "    .dataframe tbody tr th:only-of-type {\n",
       "        vertical-align: middle;\n",
       "    }\n",
       "\n",
       "    .dataframe tbody tr th {\n",
       "        vertical-align: top;\n",
       "    }\n",
       "\n",
       "    .dataframe thead th {\n",
       "        text-align: right;\n",
       "    }\n",
       "</style>\n",
       "<table border=\"1\" class=\"dataframe\">\n",
       "  <thead>\n",
       "    <tr style=\"text-align: right;\">\n",
       "      <th></th>\n",
       "      <th>x</th>\n",
       "      <th>y</th>\n",
       "      <th>ap1</th>\n",
       "      <th>ap2</th>\n",
       "      <th>ap3</th>\n",
       "      <th>result</th>\n",
       "    </tr>\n",
       "  </thead>\n",
       "  <tbody>\n",
       "    <tr>\n",
       "      <th>0</th>\n",
       "      <td>310</td>\n",
       "      <td>795</td>\n",
       "      <td>-62</td>\n",
       "      <td>-64</td>\n",
       "      <td>0</td>\n",
       "      <td>9221</td>\n",
       "    </tr>\n",
       "  </tbody>\n",
       "</table>\n",
       "</div>"
      ],
      "text/plain": [
       "     x    y  ap1  ap2  ap3  result\n",
       "0  310  795  -62  -64    0    9221"
      ]
     },
     "execution_count": 23,
     "metadata": {},
     "output_type": "execute_result"
    }
   ],
   "source": [
    "resultant"
   ]
  },
  {
   "cell_type": "code",
   "execution_count": 24,
   "id": "9fab851e",
   "metadata": {},
   "outputs": [
    {
     "data": {
      "text/html": [
       "<div>\n",
       "<style scoped>\n",
       "    .dataframe tbody tr th:only-of-type {\n",
       "        vertical-align: middle;\n",
       "    }\n",
       "\n",
       "    .dataframe tbody tr th {\n",
       "        vertical-align: top;\n",
       "    }\n",
       "\n",
       "    .dataframe thead th {\n",
       "        text-align: right;\n",
       "    }\n",
       "</style>\n",
       "<table border=\"1\" class=\"dataframe\">\n",
       "  <thead>\n",
       "    <tr style=\"text-align: right;\">\n",
       "      <th></th>\n",
       "      <th>x</th>\n",
       "      <th>y</th>\n",
       "      <th>ap1</th>\n",
       "      <th>ap2</th>\n",
       "      <th>ap3</th>\n",
       "      <th>result</th>\n",
       "    </tr>\n",
       "  </thead>\n",
       "  <tbody>\n",
       "    <tr>\n",
       "      <th>0</th>\n",
       "      <td>310</td>\n",
       "      <td>795</td>\n",
       "      <td>-62</td>\n",
       "      <td>-64</td>\n",
       "      <td>0</td>\n",
       "      <td>9221</td>\n",
       "    </tr>\n",
       "    <tr>\n",
       "      <th>1</th>\n",
       "      <td>310</td>\n",
       "      <td>625</td>\n",
       "      <td>-50</td>\n",
       "      <td>-73</td>\n",
       "      <td>0</td>\n",
       "      <td>11414</td>\n",
       "    </tr>\n",
       "    <tr>\n",
       "      <th>2</th>\n",
       "      <td>310</td>\n",
       "      <td>540</td>\n",
       "      <td>-47</td>\n",
       "      <td>-69</td>\n",
       "      <td>0</td>\n",
       "      <td>11131</td>\n",
       "    </tr>\n",
       "    <tr>\n",
       "      <th>3</th>\n",
       "      <td>310</td>\n",
       "      <td>285</td>\n",
       "      <td>-44</td>\n",
       "      <td>-62</td>\n",
       "      <td>0</td>\n",
       "      <td>10517</td>\n",
       "    </tr>\n",
       "    <tr>\n",
       "      <th>4</th>\n",
       "      <td>395</td>\n",
       "      <td>250</td>\n",
       "      <td>-45</td>\n",
       "      <td>-61</td>\n",
       "      <td>0</td>\n",
       "      <td>10291</td>\n",
       "    </tr>\n",
       "    <tr>\n",
       "      <th>5</th>\n",
       "      <td>525</td>\n",
       "      <td>250</td>\n",
       "      <td>-47</td>\n",
       "      <td>-54</td>\n",
       "      <td>0</td>\n",
       "      <td>9286</td>\n",
       "    </tr>\n",
       "    <tr>\n",
       "      <th>6</th>\n",
       "      <td>665</td>\n",
       "      <td>250</td>\n",
       "      <td>-50</td>\n",
       "      <td>-62</td>\n",
       "      <td>0</td>\n",
       "      <td>9929</td>\n",
       "    </tr>\n",
       "    <tr>\n",
       "      <th>7</th>\n",
       "      <td>835</td>\n",
       "      <td>250</td>\n",
       "      <td>-54</td>\n",
       "      <td>-63</td>\n",
       "      <td>0</td>\n",
       "      <td>9702</td>\n",
       "    </tr>\n",
       "  </tbody>\n",
       "</table>\n",
       "</div>"
      ],
      "text/plain": [
       "     x    y  ap1  ap2  ap3  result\n",
       "0  310  795  -62  -64    0    9221\n",
       "1  310  625  -50  -73    0   11414\n",
       "2  310  540  -47  -69    0   11131\n",
       "3  310  285  -44  -62    0   10517\n",
       "4  395  250  -45  -61    0   10291\n",
       "5  525  250  -47  -54    0    9286\n",
       "6  665  250  -50  -62    0    9929\n",
       "7  835  250  -54  -63    0    9702"
      ]
     },
     "execution_count": 24,
     "metadata": {},
     "output_type": "execute_result"
    }
   ],
   "source": [
    "RSSITable"
   ]
  },
  {
   "cell_type": "code",
   "execution_count": 2,
   "id": "ea5d8296",
   "metadata": {},
   "outputs": [
    {
     "name": "stdout",
     "output_type": "stream",
     "text": [
      "[12  0  7  8  9 10 13 11 19 19]\n"
     ]
    }
   ],
   "source": [
    "data = np.random.randint(20, size=10)\n",
    "print(data)"
   ]
  },
  {
   "cell_type": "code",
   "execution_count": 3,
   "id": "7389b534",
   "metadata": {},
   "outputs": [
    {
     "data": {
      "text/plain": [
       "19"
      ]
     },
     "execution_count": 3,
     "metadata": {},
     "output_type": "execute_result"
    }
   ],
   "source": [
    "np.max(data)"
   ]
  },
  {
   "cell_type": "code",
   "execution_count": 4,
   "id": "2ea2b413",
   "metadata": {},
   "outputs": [
    {
     "data": {
      "text/plain": [
       "19"
      ]
     },
     "execution_count": 4,
     "metadata": {},
     "output_type": "execute_result"
    }
   ],
   "source": [
    "data.max()"
   ]
  },
  {
   "cell_type": "code",
   "execution_count": 5,
   "id": "4f22171f",
   "metadata": {},
   "outputs": [],
   "source": [
    "data= np.random.normal(size=100)"
   ]
  },
  {
   "cell_type": "code",
   "execution_count": 6,
   "id": "6eda9f46",
   "metadata": {},
   "outputs": [
    {
     "data": {
      "text/plain": [
       "array([ 1.0943835 ,  0.27187048, -0.36849429, -0.3008214 ,  0.03201895,\n",
       "        1.26474196,  1.76639177, -0.10790149,  0.86979181, -0.12288815,\n",
       "       -0.87351556,  0.2077459 , -0.09479243,  0.90556955, -1.49632051,\n",
       "        1.16739147, -1.58230246, -1.44534604,  0.01887578,  0.02751507,\n",
       "       -0.56588699,  0.11753609, -2.21685123,  0.12805668, -0.17766079,\n",
       "       -0.6528199 ,  0.81377817, -0.24127462,  0.62048853,  2.06492494,\n",
       "       -1.42193957,  0.06618005, -1.12380866, -0.12317889,  0.37913683,\n",
       "        0.30775052, -0.27712275,  1.43066624, -0.12935398,  2.46726082,\n",
       "        1.11786565, -0.94738196,  0.10791163,  0.70958855,  1.97100717,\n",
       "       -0.08247065, -0.29688493,  1.72264538, -2.01576852, -0.19994986,\n",
       "        0.33759274,  0.71899678, -0.41985589,  0.91149009, -1.46514488,\n",
       "       -2.08665489,  0.78881913, -1.47180065,  2.25215985, -1.83866711,\n",
       "       -0.10536953, -1.00818197,  2.14568559,  0.5198206 , -0.73989356,\n",
       "        1.20581143, -0.39175331,  0.82874863, -1.43374556, -1.33367848,\n",
       "        0.74865785,  2.62784638,  0.16227415, -0.82483607, -0.98577617,\n",
       "        0.19046959,  1.1507805 ,  1.78332291, -0.18078536, -0.20589631,\n",
       "        0.51944875,  0.43165517,  0.17752467,  0.36190359, -0.40725023,\n",
       "        0.11261274,  0.64381702,  0.57718036, -0.02187868, -0.48896066,\n",
       "        2.20691046,  0.40583426,  0.80371262,  0.35313405,  0.08961874,\n",
       "        0.88608205, -1.27064365,  0.14836179,  0.96435888,  1.08561415])"
      ]
     },
     "execution_count": 6,
     "metadata": {},
     "output_type": "execute_result"
    }
   ],
   "source": [
    "data"
   ]
  },
  {
   "cell_type": "code",
   "execution_count": 7,
   "id": "d0ffbee2",
   "metadata": {},
   "outputs": [],
   "source": [
    "t = np.arange(0,50,0.5)"
   ]
  },
  {
   "cell_type": "code",
   "execution_count": 8,
   "id": "2937c009",
   "metadata": {},
   "outputs": [
    {
     "data": {
      "text/plain": [
       "array([ 0. ,  0.5,  1. ,  1.5,  2. ,  2.5,  3. ,  3.5,  4. ,  4.5,  5. ,\n",
       "        5.5,  6. ,  6.5,  7. ,  7.5,  8. ,  8.5,  9. ,  9.5, 10. , 10.5,\n",
       "       11. , 11.5, 12. , 12.5, 13. , 13.5, 14. , 14.5, 15. , 15.5, 16. ,\n",
       "       16.5, 17. , 17.5, 18. , 18.5, 19. , 19.5, 20. , 20.5, 21. , 21.5,\n",
       "       22. , 22.5, 23. , 23.5, 24. , 24.5, 25. , 25.5, 26. , 26.5, 27. ,\n",
       "       27.5, 28. , 28.5, 29. , 29.5, 30. , 30.5, 31. , 31.5, 32. , 32.5,\n",
       "       33. , 33.5, 34. , 34.5, 35. , 35.5, 36. , 36.5, 37. , 37.5, 38. ,\n",
       "       38.5, 39. , 39.5, 40. , 40.5, 41. , 41.5, 42. , 42.5, 43. , 43.5,\n",
       "       44. , 44.5, 45. , 45.5, 46. , 46.5, 47. , 47.5, 48. , 48.5, 49. ,\n",
       "       49.5])"
      ]
     },
     "execution_count": 8,
     "metadata": {},
     "output_type": "execute_result"
    }
   ],
   "source": [
    "t"
   ]
  },
  {
   "cell_type": "code",
   "execution_count": 11,
   "id": "78f3bd66",
   "metadata": {},
   "outputs": [
    {
     "data": {
      "text/plain": [
       "[<matplotlib.lines.Line2D at 0x10d2e7cd0>]"
      ]
     },
     "execution_count": 11,
     "metadata": {},
     "output_type": "execute_result"
    },
    {
     "data": {
      "image/png": "[encoded data removed]",
      "text/plain": [
       "<Figure size 640x480 with 1 Axes>"
      ]
     },
     "metadata": {},
     "output_type": "display_data"
    }
   ],
   "source": [
    "plt.plot(t, data)"
   ]
  },
  {
   "cell_type": "code",
   "execution_count": 13,
   "id": "08e3f40b",
   "metadata": {},
   "outputs": [
    {
     "data": {
      "image/png": "[encoded data removed]",
      "text/plain": [
       "<Figure size 640x480 with 1 Axes>"
      ]
     },
     "metadata": {},
     "output_type": "display_data"
    }
   ],
   "source": [
    "plt.grid(True)"
   ]
  },
  {
   "cell_type": "code",
   "execution_count": 14,
   "id": "8528d15e",
   "metadata": {},
   "outputs": [
    {
     "data": {
      "text/plain": [
       "Text(0.5, 0, 'Time')"
      ]
     },
     "execution_count": 14,
     "metadata": {},
     "output_type": "execute_result"
    },
    {
     "data": {
      "image/png": "[encoded data removed]",
      "text/plain": [
       "<Figure size 640x480 with 1 Axes>"
      ]
     },
     "metadata": {},
     "output_type": "display_data"
    }
   ],
   "source": [
    "plt.xlabel(\"Time\")"
   ]
  },
  {
   "cell_type": "code",
   "execution_count": 15,
   "id": "1de02cd4",
   "metadata": {},
   "outputs": [
    {
     "data": {
      "text/plain": [
       "Text(0.5, 1.0, 'True')"
      ]
     },
     "execution_count": 15,
     "metadata": {},
     "output_type": "execute_result"
    },
    {
     "data": {
      "image/png": "[encoded data removed]",
      "text/plain": [
       "<Figure size 640x480 with 1 Axes>"
      ]
     },
     "metadata": {},
     "output_type": "display_data"
    }
   ],
   "source": [
    "plt.title(\"True\")"
   ]
  },
  {
   "cell_type": "code",
   "execution_count": 19,
   "id": "4f888c86",
   "metadata": {},
   "outputs": [],
   "source": [
    "p = pd.Series(rd.sample(range(1500,1600), k=10))"
   ]
  },
  {
   "cell_type": "code",
   "execution_count": 23,
   "id": "fe9508ff",
   "metadata": {},
   "outputs": [
    {
     "ename": "AttributeError",
     "evalue": "'Series' object has no attribute 'report'",
     "output_type": "error",
     "traceback": [
      "\u001b[0;31m---------------------------------------------------------------------------\u001b[0m",
      "\u001b[0;31mAttributeError\u001b[0m                            Traceback (most recent call last)",
      "Cell \u001b[0;32mIn [23], line 1\u001b[0m\n\u001b[0;32m----> 1\u001b[0m \u001b[43mp\u001b[49m\u001b[38;5;241;43m.\u001b[39;49m\u001b[43mreport\u001b[49m()\n",
      "File \u001b[0;32m/opt/homebrew/lib/python3.10/site-packages/pandas/core/generic.py:5902\u001b[0m, in \u001b[0;36mNDFrame.__getattr__\u001b[0;34m(self, name)\u001b[0m\n\u001b[1;32m   5895\u001b[0m \u001b[38;5;28;01mif\u001b[39;00m (\n\u001b[1;32m   5896\u001b[0m     name \u001b[38;5;129;01mnot\u001b[39;00m \u001b[38;5;129;01min\u001b[39;00m \u001b[38;5;28mself\u001b[39m\u001b[38;5;241m.\u001b[39m_internal_names_set\n\u001b[1;32m   5897\u001b[0m     \u001b[38;5;129;01mand\u001b[39;00m name \u001b[38;5;129;01mnot\u001b[39;00m \u001b[38;5;129;01min\u001b[39;00m \u001b[38;5;28mself\u001b[39m\u001b[38;5;241m.\u001b[39m_metadata\n\u001b[1;32m   5898\u001b[0m     \u001b[38;5;129;01mand\u001b[39;00m name \u001b[38;5;129;01mnot\u001b[39;00m \u001b[38;5;129;01min\u001b[39;00m \u001b[38;5;28mself\u001b[39m\u001b[38;5;241m.\u001b[39m_accessors\n\u001b[1;32m   5899\u001b[0m     \u001b[38;5;129;01mand\u001b[39;00m \u001b[38;5;28mself\u001b[39m\u001b[38;5;241m.\u001b[39m_info_axis\u001b[38;5;241m.\u001b[39m_can_hold_identifiers_and_holds_name(name)\n\u001b[1;32m   5900\u001b[0m ):\n\u001b[1;32m   5901\u001b[0m     \u001b[38;5;28;01mreturn\u001b[39;00m \u001b[38;5;28mself\u001b[39m[name]\n\u001b[0;32m-> 5902\u001b[0m \u001b[38;5;28;01mreturn\u001b[39;00m \u001b[38;5;28;43mobject\u001b[39;49m\u001b[38;5;241;43m.\u001b[39;49m\u001b[38;5;21;43m__getattribute__\u001b[39;49m\u001b[43m(\u001b[49m\u001b[38;5;28;43mself\u001b[39;49m\u001b[43m,\u001b[49m\u001b[43m \u001b[49m\u001b[43mname\u001b[49m\u001b[43m)\u001b[49m\n",
      "\u001b[0;31mAttributeError\u001b[0m: 'Series' object has no attribute 'report'"
     ]
    }
   ],
   "source": [
    "p.report()"
   ]
  },
  {
   "cell_type": "code",
   "execution_count": 1,
   "id": "9f6c6460",
   "metadata": {},
   "outputs": [
    {
     "name": "stdout",
     "output_type": "stream",
     "text": [
      "Collecting swolfpy\n",
      "  Using cached swolfpy-0.2.5-py3-none-any.whl (602 kB)\n",
      "Collecting bw2io==0.7.12.1\n",
      "  Using cached bw2io-0.7.12.1.tar.gz (28.7 MB)\n",
      "  Preparing metadata (setup.py) ... \u001b[?25ldone\n",
      "\u001b[?25hCollecting brightway2==2.3\n",
      "  Downloading brightway2-2.3-py3-none-any.whl (5.2 kB)\n",
      "Collecting bw2calc==1.8.0\n",
      "  Using cached bw2calc-1.8.0-py3-none-any.whl (35 kB)\n",
      "Collecting xlrd==1.2.0\n",
      "  Using cached xlrd-1.2.0-py2.py3-none-any.whl (103 kB)\n",
      "Collecting bw-migrations==0.1\n",
      "  Downloading bw_migrations-0.1-py3-none-any.whl (8.5 kB)\n",
      "Collecting pytest\n",
      "  Using cached pytest-7.2.0-py3-none-any.whl (316 kB)\n",
      "Collecting graphviz\n",
      "  Using cached graphviz-0.20.1-py3-none-any.whl (47 kB)\n",
      "Collecting swolfpy-processmodels\n",
      "  Using cached swolfpy_processmodels-0.1.9-py3-none-any.whl (91 kB)\n",
      "Collecting plotly\n",
      "  Downloading plotly-5.11.0-py2.py3-none-any.whl (15.3 MB)\n",
      "\u001b[2K     \u001b[90m━━━━━━━━━━━━━━━━━━━━━━━━━━━━━━━━━━━━━━━━\u001b[0m \u001b[32m15.3/15.3 MB\u001b[0m \u001b[31m7.5 MB/s\u001b[0m eta \u001b[36m0:00:00\u001b[0m00:01\u001b[0m00:01\u001b[0m\n",
      "\u001b[?25hCollecting bw2data==3.6.2\n",
      "  Using cached bw2data-3.6.2-py3-none-any.whl (79 kB)\n",
      "Collecting pytest-flake8\n",
      "  Using cached pytest_flake8-1.1.1-py2.py3-none-any.whl (6.6 kB)\n",
      "Collecting pytest-cov\n",
      "  Downloading pytest_cov-4.0.0-py3-none-any.whl (21 kB)\n",
      "Collecting coverage\n",
      "  Downloading coverage-7.0.4-cp310-cp310-macosx_11_0_arm64.whl (197 kB)\n",
      "\u001b[2K     \u001b[90m━━━━━━━━━━━━━━━━━━━━━━━━━━━━━━━━━━━━━━━\u001b[0m \u001b[32m197.7/197.7 kB\u001b[0m \u001b[31m4.2 MB/s\u001b[0m eta \u001b[36m0:00:00\u001b[0ma \u001b[36m0:00:01\u001b[0m\n",
      "\u001b[?25hCollecting pyDOE\n",
      "  Using cached pyDOE-0.3.8.zip (22 kB)\n",
      "  Preparing metadata (setup.py) ... \u001b[?25ldone\n",
      "\u001b[?25hCollecting bw2parameters==0.6.6\n",
      "  Using cached bw2parameters-0.6.6-py3-none-any.whl (10 kB)\n",
      "Collecting swolfpy\n",
      "  Using cached swolfpy-0.2.4-py3-none-any.whl (669 kB)\n",
      "  Using cached swolfpy-0.2.3-py3-none-any.whl (669 kB)\n",
      "  Using cached swolfpy-0.2.2-py3-none-any.whl (669 kB)\n",
      "  Using cached swolfpy-0.2.1-py3-none-any.whl (668 kB)\n",
      "  Using cached swolfpy-0.2.0-py3-none-any.whl (668 kB)\n",
      "  Using cached swolfpy-0.1.9-py3-none-any.whl (652 kB)\n",
      "Collecting swolfpy-inputdata\n",
      "  Downloading swolfpy_inputdata-0.2.4-py3-none-any.whl (430 kB)\n",
      "\u001b[2K     \u001b[90m━━━━━━━━━━━━━━━━━━━━━━━━━━━━━━━━━━━━━━━\u001b[0m \u001b[32m430.9/430.9 kB\u001b[0m \u001b[31m5.2 MB/s\u001b[0m eta \u001b[36m0:00:00\u001b[0m00:01\u001b[0m00:01\u001b[0m\n",
      "\u001b[?25hCollecting swolfpy\n",
      "  Using cached swolfpy-0.1.8-py3-none-any.whl (644 kB)\n",
      "  Using cached swolfpy-0.1.7-py3-none-any.whl (639 kB)\n",
      "Collecting brightway2\n",
      "  Using cached brightway2-2.4.2.tar.gz (3.4 kB)\n",
      "  Preparing metadata (setup.py) ... \u001b[?25ldone\n",
      "\u001b[?25hCollecting swolfpy\n",
      "  Using cached swolfpy-0.1.6-py3-none-any.whl (1.1 MB)\n",
      "Requirement already satisfied: jupyter in /opt/homebrew/lib/python3.10/site-packages (from swolfpy) (1.0.0)\n",
      "  Using cached swolfpy-0.1.5-py3-none-any.whl (1.1 MB)\n",
      "  Using cached swolfpy-0.1.4-py3-none-any.whl (1.1 MB)\n",
      "  Using cached swolfpy-0.1.3-py3-none-any.whl (1.1 MB)\n",
      "  Using cached swolfpy-0.1.2-py3-none-any.whl (1.0 MB)\n",
      "  Using cached swolfpy-0.1.1-py3-none-any.whl (1.0 MB)\n",
      "  Using cached SwolfPy-0.1.0-py3-none-any.whl (1.0 MB)\n",
      "\u001b[31mERROR: Cannot install swolfpy==0.1.0, swolfpy==0.1.1, swolfpy==0.1.2, swolfpy==0.1.3, swolfpy==0.1.4, swolfpy==0.1.5, swolfpy==0.1.6, swolfpy==0.1.7, swolfpy==0.1.8, swolfpy==0.1.9, swolfpy==0.2.0, swolfpy==0.2.1, swolfpy==0.2.2, swolfpy==0.2.3, swolfpy==0.2.4 and swolfpy==0.2.5 because these package versions have conflicting dependencies.\u001b[0m\u001b[31m\n",
      "\u001b[0m\n",
      "The conflict is caused by:\n",
      "    swolfpy 0.2.5 depends on PySide2==5.14\n",
      "    swolfpy 0.2.4 depends on PySide2==5.14\n",
      "    swolfpy 0.2.3 depends on PySide2==5.14\n",
      "    swolfpy 0.2.2 depends on PySide2\n",
      "    swolfpy 0.2.1 depends on PySide2\n",
      "    swolfpy 0.2.0 depends on PySide2\n",
      "    swolfpy 0.1.9 depends on PySide2\n",
      "    swolfpy 0.1.8 depends on PySide2\n",
      "    swolfpy 0.1.7 depends on PySide2\n",
      "    swolfpy 0.1.6 depends on PySide2\n",
      "    swolfpy 0.1.5 depends on PySide2\n",
      "    swolfpy 0.1.4 depends on PySide2\n",
      "    swolfpy 0.1.3 depends on PySide2\n",
      "    swolfpy 0.1.2 depends on PySide2\n",
      "    swolfpy 0.1.1 depends on PySide2\n",
      "    swolfpy 0.1.0 depends on PySide2\n",
      "\n",
      "To fix this you could try to:\n",
      "1. loosen the range of package versions you've specified\n",
      "2. remove package versions to allow pip attempt to solve the dependency conflict\n",
      "\n",
      "\u001b[31mERROR: ResolutionImpossible: for help visit https://pip.pypa.io/en/latest/topics/dependency-resolution/#dealing-with-dependency-conflicts\u001b[0m\u001b[31m\n",
      "\u001b[0mNote: you may need to restart the kernel to use updated packages.\n"
     ]
    }
   ],
   "source": [
    "pip install swolfpy"
   ]
  },
  {
   "cell_type": "code",
   "execution_count": 2,
   "id": "ae2cb07c",
   "metadata": {},
   "outputs": [
    {
     "ename": "ModuleNotFoundError",
     "evalue": "No module named 'swolfpy'",
     "output_type": "error",
     "traceback": [
      "\u001b[0;31m---------------------------------------------------------------------------\u001b[0m",
      "\u001b[0;31mModuleNotFoundError\u001b[0m                       Traceback (most recent call last)",
      "Cell \u001b[0;32mIn [2], line 1\u001b[0m\n\u001b[0;32m----> 1\u001b[0m \u001b[38;5;28;01mimport\u001b[39;00m \u001b[38;5;21;01mswolfpy\u001b[39;00m \u001b[38;5;28;01mas\u001b[39;00m \u001b[38;5;21;01msp\u001b[39;00m\n\u001b[1;32m      2\u001b[0m sp\u001b[38;5;241m.\u001b[39mswolfpy()\n",
      "\u001b[0;31mModuleNotFoundError\u001b[0m: No module named 'swolfpy'"
     ]
    }
   ],
   "source": [
    "import swolfpy as sp\n",
    "sp.swolfpy()"
   ]
  },
  {
   "cell_type": "code",
   "execution_count": null,
   "id": "0883d380",
   "metadata": {},
   "outputs": [],
   "source": []
  },
  {
   "cell_type": "code",
   "execution_count": null,
   "id": "e702f9f0",
   "metadata": {},
   "outputs": [],
   "source": []
  }
 ],
 "metadata": {
  "kernelspec": {
   "display_name": "Python 3 (ipykernel)",
   "language": "python",
   "name": "python3"
  },
  "language_info": {
   "codemirror_mode": {
    "name": "ipython",
    "version": 3
   },
   "file_extension": ".py",
   "mimetype": "text/x-python",
   "name": "python",
   "nbconvert_exporter": "python",
   "pygments_lexer": "ipython3",
   "version": "3.10.8"
  }
 },
 "nbformat": 4,
 "nbformat_minor": 5
}
