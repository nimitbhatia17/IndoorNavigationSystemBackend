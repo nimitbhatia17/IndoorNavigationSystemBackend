{
 "cells": [
  {
   "cell_type": "code",
   "execution_count": 20,
   "id": "e63871f7",
   "metadata": {},
   "outputs": [],
   "source": [
    "import pandas as pd"
   ]
  },
  {
   "cell_type": "code",
   "execution_count": 22,
   "id": "5d060076",
   "metadata": {},
   "outputs": [
    {
     "data": {
      "text/plain": [
       "(0    310\n",
       " Name: x, dtype: int64,\n",
       " 0    795\n",
       " Name: y, dtype: int64)"
      ]
     },
     "execution_count": 22,
     "metadata": {},
     "output_type": "execute_result"
    }
   ],
   "source": [
    "RSSIDict = {'OnePlus Buds Z2': 0, 'Nothing ear (1)': -96, '6B:3F:F3:EA:AA:31': 0, '41:26:86:BA:92:81': -63}\n",
    "\n",
    "RSSITable = pd.read_csv('RSSITable.csv')\n",
    "\n",
    "targetAP1 = RSSIDict['Nothing ear (1)']\n",
    "targetAP2 = RSSIDict['6B:3F:F3:EA:AA:31']\n",
    "targetAP3 = RSSIDict['41:26:86:BA:92:81']\n",
    "\n",
    "def applicationFun(row):\n",
    "    xDist = abs(row['ap1'] - targetAP1)\n",
    "    yDist = abs(row['ap2'] - targetAP2)\n",
    "    zDist = abs(row['ap3'] - targetAP3)\n",
    "    return xDist**2 + yDist**2 + zDist**2\n",
    "\n",
    "RSSITable['result'] = RSSITable.apply(applicationFun, axis = 1)\n",
    "resultant = RSSITable[RSSITable['result'] == RSSITable['result'].min()]\n",
    "\n",
    "resultant.head(1)['x'], resultant.head(1)['y']"
   ]
  },
  {
   "cell_type": "code",
   "execution_count": 23,
   "id": "ec8c312f",
   "metadata": {},
   "outputs": [
    {
     "data": {
      "text/html": [
       "<div>\n",
       "<style scoped>\n",
       "    .dataframe tbody tr th:only-of-type {\n",
       "        vertical-align: middle;\n",
       "    }\n",
       "\n",
       "    .dataframe tbody tr th {\n",
       "        vertical-align: top;\n",
       "    }\n",
       "\n",
       "    .dataframe thead th {\n",
       "        text-align: right;\n",
       "    }\n",
       "</style>\n",
       "<table border=\"1\" class=\"dataframe\">\n",
       "  <thead>\n",
       "    <tr style=\"text-align: right;\">\n",
       "      <th></th>\n",
       "      <th>x</th>\n",
       "      <th>y</th>\n",
       "      <th>ap1</th>\n",
       "      <th>ap2</th>\n",
       "      <th>ap3</th>\n",
       "      <th>result</th>\n",
       "    </tr>\n",
       "  </thead>\n",
       "  <tbody>\n",
       "    <tr>\n",
       "      <th>0</th>\n",
       "      <td>310</td>\n",
       "      <td>795</td>\n",
       "      <td>-62</td>\n",
       "      <td>-64</td>\n",
       "      <td>0</td>\n",
       "      <td>9221</td>\n",
       "    </tr>\n",
       "  </tbody>\n",
       "</table>\n",
       "</div>"
      ],
      "text/plain": [
       "     x    y  ap1  ap2  ap3  result\n",
       "0  310  795  -62  -64    0    9221"
      ]
     },
     "execution_count": 23,
     "metadata": {},
     "output_type": "execute_result"
    }
   ],
   "source": [
    "resultant"
   ]
  },
  {
   "cell_type": "code",
   "execution_count": 24,
   "id": "9fab851e",
   "metadata": {},
   "outputs": [
    {
     "data": {
      "text/html": [
       "<div>\n",
       "<style scoped>\n",
       "    .dataframe tbody tr th:only-of-type {\n",
       "        vertical-align: middle;\n",
       "    }\n",
       "\n",
       "    .dataframe tbody tr th {\n",
       "        vertical-align: top;\n",
       "    }\n",
       "\n",
       "    .dataframe thead th {\n",
       "        text-align: right;\n",
       "    }\n",
       "</style>\n",
       "<table border=\"1\" class=\"dataframe\">\n",
       "  <thead>\n",
       "    <tr style=\"text-align: right;\">\n",
       "      <th></th>\n",
       "      <th>x</th>\n",
       "      <th>y</th>\n",
       "      <th>ap1</th>\n",
       "      <th>ap2</th>\n",
       "      <th>ap3</th>\n",
       "      <th>result</th>\n",
       "    </tr>\n",
       "  </thead>\n",
       "  <tbody>\n",
       "    <tr>\n",
       "      <th>0</th>\n",
       "      <td>310</td>\n",
       "      <td>795</td>\n",
       "      <td>-62</td>\n",
       "      <td>-64</td>\n",
       "      <td>0</td>\n",
       "      <td>9221</td>\n",
       "    </tr>\n",
       "    <tr>\n",
       "      <th>1</th>\n",
       "      <td>310</td>\n",
       "      <td>625</td>\n",
       "      <td>-50</td>\n",
       "      <td>-73</td>\n",
       "      <td>0</td>\n",
       "      <td>11414</td>\n",
       "    </tr>\n",
       "    <tr>\n",
       "      <th>2</th>\n",
       "      <td>310</td>\n",
       "      <td>540</td>\n",
       "      <td>-47</td>\n",
       "      <td>-69</td>\n",
       "      <td>0</td>\n",
       "      <td>11131</td>\n",
       "    </tr>\n",
       "    <tr>\n",
       "      <th>3</th>\n",
       "      <td>310</td>\n",
       "      <td>285</td>\n",
       "      <td>-44</td>\n",
       "      <td>-62</td>\n",
       "      <td>0</td>\n",
       "      <td>10517</td>\n",
       "    </tr>\n",
       "    <tr>\n",
       "      <th>4</th>\n",
       "      <td>395</td>\n",
       "      <td>250</td>\n",
       "      <td>-45</td>\n",
       "      <td>-61</td>\n",
       "      <td>0</td>\n",
       "      <td>10291</td>\n",
       "    </tr>\n",
       "    <tr>\n",
       "      <th>5</th>\n",
       "      <td>525</td>\n",
       "      <td>250</td>\n",
       "      <td>-47</td>\n",
       "      <td>-54</td>\n",
       "      <td>0</td>\n",
       "      <td>9286</td>\n",
       "    </tr>\n",
       "    <tr>\n",
       "      <th>6</th>\n",
       "      <td>665</td>\n",
       "      <td>250</td>\n",
       "      <td>-50</td>\n",
       "      <td>-62</td>\n",
       "      <td>0</td>\n",
       "      <td>9929</td>\n",
       "    </tr>\n",
       "    <tr>\n",
       "      <th>7</th>\n",
       "      <td>835</td>\n",
       "      <td>250</td>\n",
       "      <td>-54</td>\n",
       "      <td>-63</td>\n",
       "      <td>0</td>\n",
       "      <td>9702</td>\n",
       "    </tr>\n",
       "  </tbody>\n",
       "</table>\n",
       "</div>"
      ],
      "text/plain": [
       "     x    y  ap1  ap2  ap3  result\n",
       "0  310  795  -62  -64    0    9221\n",
       "1  310  625  -50  -73    0   11414\n",
       "2  310  540  -47  -69    0   11131\n",
       "3  310  285  -44  -62    0   10517\n",
       "4  395  250  -45  -61    0   10291\n",
       "5  525  250  -47  -54    0    9286\n",
       "6  665  250  -50  -62    0    9929\n",
       "7  835  250  -54  -63    0    9702"
      ]
     },
     "execution_count": 24,
     "metadata": {},
     "output_type": "execute_result"
    }
   ],
   "source": [
    "RSSITable"
   ]
  },
  {
   "cell_type": "code",
   "execution_count": null,
   "id": "ea5d8296",
   "metadata": {},
   "outputs": [],
   "source": []
  }
 ],
 "metadata": {
  "kernelspec": {
   "display_name": "Python 3 (ipykernel)",
   "language": "python",
   "name": "python3"
  },
  "language_info": {
   "codemirror_mode": {
    "name": "ipython",
    "version": 3
   },
   "file_extension": ".py",
   "mimetype": "text/x-python",
   "name": "python",
   "nbconvert_exporter": "python",
   "pygments_lexer": "ipython3",
   "version": "3.10.8"
  }
 },
 "nbformat": 4,
 "nbformat_minor": 5
}
